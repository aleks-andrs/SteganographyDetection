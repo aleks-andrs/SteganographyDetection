{
 "cells": [
  {
   "cell_type": "code",
   "execution_count": 1,
   "id": "7762ce40",
   "metadata": {},
   "outputs": [],
   "source": [
    "import os\n",
    "import shutil"
   ]
  },
  {
   "cell_type": "code",
   "execution_count": 2,
   "id": "41a564f6",
   "metadata": {},
   "outputs": [],
   "source": [
    "# Set directory of cover images\n",
    "cover_dirname = \"C:/Users/PC/Masters Files/SteganographyDetection/Datasets/Dataset Cover Images\"\n",
    "# Set directory of LSB\n",
    "LSB_dirname = \"C:/Users/PC/Masters Files/SteganographyDetection/Datasets/Dataset LSB\"\n",
    "# Set directory of LSB Greyscale\n",
    "LSBG_dirname = \"C:/Users/PC/Masters Files/SteganographyDetection/Datasets/Dataset LSB Greyscale\"\n",
    "# Set directory of DCT\n",
    "DCT_dirname = \"C:/Users/PC/Masters Files/SteganographyDetection/Datasets/Dataset DCT\"\n",
    "# Set directory of FFT\n",
    "FFT_dirname = \"C:/Users/PC/Masters Files/SteganographyDetection/Datasets/Dataset FFT\"\n",
    "# Set directory of RSB\n",
    "RSB_dirname = \"C:/Users/PC/Masters Files/SteganographyDetection/Datasets/Dataset RSB\"\n",
    "# Set working directories\n",
    "dataset1 = \"C:/Users/PC/Masters Files/SteganographyDetection/Datasets/Mixed Dataset 1\"\n",
    "dataset2 = \"C:/Users/PC/Masters Files/SteganographyDetection/Datasets/Mixed Dataset 2\"\n",
    "dataset3 = \"C:/Users/PC/Masters Files/SteganographyDetection/Datasets/Mixed Dataset 3\"\n",
    "dataset4 = \"C:/Users/PC/Masters Files/SteganographyDetection/Datasets/Mixed Dataset 4\"\n",
    "dataset5 = \"C:/Users/PC/Masters Files/SteganographyDetection/Datasets/Mixed Dataset 5\""
   ]
  },
  {
   "cell_type": "code",
   "execution_count": 3,
   "id": "59d2149e",
   "metadata": {},
   "outputs": [],
   "source": [
    "# Dataset 1 = LSB + cover\n",
    "# Copy all cover images to Dataset 1\n",
    "for i, filename in enumerate(os.listdir(cover_dirname)):\n",
    "    shutil.copy(cover_dirname + \"/\" + filename, dataset1)\n",
    "    \n",
    "# Copy all PNG images from Dataset LSB to Dataset 1\n",
    "for i, filename in enumerate(os.listdir(LSB_dirname)):\n",
    "    shutil.copy(LSB_dirname + \"/\" + filename, dataset1)"
   ]
  },
  {
   "cell_type": "code",
   "execution_count": 4,
   "id": "4b44c923",
   "metadata": {},
   "outputs": [],
   "source": [
    "# Dataset 2 = LSB Greyscale + cover\n",
    "# Copy all cover images to Dataset 2\n",
    "for i, filename in enumerate(os.listdir(cover_dirname)):\n",
    "    shutil.copy(cover_dirname + \"/\" + filename, dataset2)\n",
    "    \n",
    "# Copy all PNG images from Dataset LSBG to Dataset 1\n",
    "for i, filename in enumerate(os.listdir(LSBG_dirname)):\n",
    "    shutil.copy(LSBG_dirname + \"/\" + filename, dataset2)"
   ]
  },
  {
   "cell_type": "code",
   "execution_count": 5,
   "id": "674f624b",
   "metadata": {},
   "outputs": [],
   "source": [
    "# Dataset 3 = DCT + cover\n",
    "# Copy all cover images to Dataset 3\n",
    "for i, filename in enumerate(os.listdir(cover_dirname)):\n",
    "    shutil.copy(cover_dirname + \"/\" + filename, dataset3)\n",
    "    \n",
    "# Copy all PNG images from Dataset DCT to Dataset 3\n",
    "for i, filename in enumerate(os.listdir(DCT_dirname)):\n",
    "    shutil.copy(DCT_dirname + \"/\" + filename, dataset3)"
   ]
  },
  {
   "cell_type": "code",
   "execution_count": 6,
   "id": "1a1a7d43",
   "metadata": {},
   "outputs": [],
   "source": [
    "# Dataset 4 = FFT + cover\n",
    "# Copy all cover images to Dataset 4\n",
    "for i, filename in enumerate(os.listdir(cover_dirname)):\n",
    "    shutil.copy(cover_dirname + \"/\" + filename, dataset4)\n",
    "    \n",
    "# Copy all PNG images from Dataset FFT to Dataset 4\n",
    "for i, filename in enumerate(os.listdir(FFT_dirname)):\n",
    "    shutil.copy(FFT_dirname + \"/\" + filename, dataset4)"
   ]
  },
  {
   "cell_type": "code",
   "execution_count": 7,
   "id": "f80c234e",
   "metadata": {},
   "outputs": [],
   "source": [
    "# Dataset 1 = RSB + cover\n",
    "# Copy all cover images to Dataset 5\n",
    "for i, filename in enumerate(os.listdir(cover_dirname)):\n",
    "    shutil.copy(cover_dirname + \"/\" + filename, dataset5)\n",
    "    \n",
    "# Copy all PNG images from Dataset RSB to Dataset 5\n",
    "for i, filename in enumerate(os.listdir(RSB_dirname)):\n",
    "    shutil.copy(RSB_dirname + \"/\" + filename, dataset5)"
   ]
  }
 ],
 "metadata": {
  "kernelspec": {
   "display_name": "Python 3",
   "language": "python",
   "name": "python3"
  },
  "language_info": {
   "codemirror_mode": {
    "name": "ipython",
    "version": 3
   },
   "file_extension": ".py",
   "mimetype": "text/x-python",
   "name": "python",
   "nbconvert_exporter": "python",
   "pygments_lexer": "ipython3",
   "version": "3.8.8"
  }
 },
 "nbformat": 4,
 "nbformat_minor": 5
}
