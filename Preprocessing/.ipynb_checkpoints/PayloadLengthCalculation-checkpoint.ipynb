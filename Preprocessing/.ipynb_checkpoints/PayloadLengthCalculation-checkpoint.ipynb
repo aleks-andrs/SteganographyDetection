{
 "cells": [
  {
   "cell_type": "code",
   "execution_count": 1,
   "id": "1c61fc2f",
   "metadata": {},
   "outputs": [],
   "source": [
    "import requests"
   ]
  },
  {
   "cell_type": "code",
   "execution_count": 2,
   "id": "e44c2928",
   "metadata": {},
   "outputs": [],
   "source": [
    "# Amount of text to obtain from API\n",
    "varX = 1"
   ]
  },
  {
   "cell_type": "code",
   "execution_count": 3,
   "id": "a4aa022f",
   "metadata": {},
   "outputs": [],
   "source": [
    "# Function for random Lorem Ipsum text generation\n",
    "def random_message():\n",
    "    response = requests.get(\"http://loripsum.net/api/\" + str(varX) + \"/headers/plaintext\")\n",
    "    if response.status_code == 200:\n",
    "        secret_msg = response.text\n",
    "    else:\n",
    "        # Default secret message, when requests fail\n",
    "        secret_msg = \"Hello There!\"\n",
    "    return secret_msg"
   ]
  },
  {
   "cell_type": "code",
   "execution_count": 4,
   "id": "7e4ee422",
   "metadata": {},
   "outputs": [],
   "source": [
    "def Average(data_list):\n",
    "    return sum(data_list) / len(data_list)"
   ]
  },
  {
   "cell_type": "code",
   "execution_count": 5,
   "id": "f41d6fe0",
   "metadata": {},
   "outputs": [],
   "source": [
    "# Run function 10 times to gather results\n",
    "text_data = []\n",
    "for x in range(0, 10):\n",
    "    lorem_ipsum_text = random_message()\n",
    "    text_data.append(len(lorem_ipsum_text))"
   ]
  },
  {
   "cell_type": "code",
   "execution_count": 6,
   "id": "6945c20f",
   "metadata": {},
   "outputs": [
    {
     "data": {
      "text/plain": [
       "[296, 563, 597, 612, 587, 555, 586, 478, 908, 602]"
      ]
     },
     "execution_count": 6,
     "metadata": {},
     "output_type": "execute_result"
    }
   ],
   "source": [
    "# Print results\n",
    "text_data"
   ]
  },
  {
   "cell_type": "code",
   "execution_count": 7,
   "id": "bfb28410",
   "metadata": {},
   "outputs": [
    {
     "name": "stdout",
     "output_type": "stream",
     "text": [
      "Average list length: 578\n"
     ]
    }
   ],
   "source": [
    "# Print average length\n",
    "average_length = Average(text_data)\n",
    "print(\"Average list length:\", round(average_length))"
   ]
  },
  {
   "cell_type": "code",
   "execution_count": 8,
   "id": "dff60466",
   "metadata": {},
   "outputs": [],
   "source": [
    "# Amount of text to obtain from API (used for RGB images)\n",
    "varX = 2"
   ]
  },
  {
   "cell_type": "code",
   "execution_count": 9,
   "id": "89755d7e",
   "metadata": {},
   "outputs": [],
   "source": [
    "# Run function 10 times to gather results\n",
    "text_data = []\n",
    "for x in range(0, 10):\n",
    "    lorem_ipsum_text = random_message()\n",
    "    text_data.append(len(lorem_ipsum_text))"
   ]
  },
  {
   "cell_type": "code",
   "execution_count": 10,
   "id": "18c185cf",
   "metadata": {},
   "outputs": [
    {
     "data": {
      "text/plain": [
       "[1367, 1001, 1484, 652, 1174, 1105, 1330, 720, 1065, 1208]"
      ]
     },
     "execution_count": 10,
     "metadata": {},
     "output_type": "execute_result"
    }
   ],
   "source": [
    "# Print results\n",
    "text_data"
   ]
  },
  {
   "cell_type": "code",
   "execution_count": 11,
   "id": "98578bcb",
   "metadata": {},
   "outputs": [
    {
     "name": "stdout",
     "output_type": "stream",
     "text": [
      "Average list length: 1111\n"
     ]
    }
   ],
   "source": [
    "# Print average length\n",
    "average_length = Average(text_data)\n",
    "print(\"Average list length:\", round(average_length))"
   ]
  },
  {
   "cell_type": "code",
   "execution_count": 12,
   "id": "8b4ed12c",
   "metadata": {},
   "outputs": [
    {
     "name": "stdout",
     "output_type": "stream",
     "text": [
      "Cui Tubuli nomen odio non est?\n",
      "\n",
      "Lorem ipsum dolor sit amet, consectetur adipiscing elit. Quippe: habes enim a rhetoribus; Num igitur eum postea censes anxio animo aut sollicito fuisse? Nihil opus est exemplis hoc facere longius. Cum praesertim illa perdiscere ludus esset. Quod autem meum munus dicis non equidem recuso, sed te adiungo socium. Duo Reges: constructio interrete. Quod autem ratione actum est, id officium appellamus. Septem autem illi non suo, sed populorum suffragio omnium nominati sunt. Occultum facinus esse potuerit, gaudebit; \n",
      "\n",
      "Hoc sic expositum dissimile est superiori.\n",
      "\n",
      "Haec dicuntur inconstantissime. Traditur, inquit, ab Epicuro ratio neglegendi doloris. Habes, inquam, Cato, formam eorum, de quibus loquor, philosophorum. Serpere anguiculos, nare anaticulas, evolare merulas, cornibus uti videmus boves, nepas aculeis. Est enim effectrix multarum et magnarum voluptatum. Quis animo aequo videt eum, quem inpure ac flagitiose putet vivere? Quodcumque in mentem incideret, et quodcumque tamquam occurreret. Quamquam haec quidem praeposita recte et reiecta dicere licebit. Nunc omni virtuti vitium contrario nomine opponitur. Quo plebiscito decreta a senatu est consuli quaestio Cn. \n",
      "\n",
      "\n"
     ]
    }
   ],
   "source": [
    "# Display last Lorem Ipsum text obtained, for testing purposes\n",
    "print(lorem_ipsum_text)"
   ]
  }
 ],
 "metadata": {
  "kernelspec": {
   "display_name": "Python 3",
   "language": "python",
   "name": "python3"
  },
  "language_info": {
   "codemirror_mode": {
    "name": "ipython",
    "version": 3
   },
   "file_extension": ".py",
   "mimetype": "text/x-python",
   "name": "python",
   "nbconvert_exporter": "python",
   "pygments_lexer": "ipython3",
   "version": "3.8.8"
  }
 },
 "nbformat": 4,
 "nbformat_minor": 5
}
