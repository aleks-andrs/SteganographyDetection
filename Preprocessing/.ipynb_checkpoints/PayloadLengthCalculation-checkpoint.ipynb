{
 "cells": [
  {
   "cell_type": "code",
   "execution_count": 1,
   "id": "1c61fc2f",
   "metadata": {},
   "outputs": [],
   "source": [
    "import requests"
   ]
  },
  {
   "cell_type": "code",
   "execution_count": 2,
   "id": "e44c2928",
   "metadata": {},
   "outputs": [],
   "source": [
    "# Amount of text to obtain from API\n",
    "varX = 5"
   ]
  },
  {
   "cell_type": "code",
   "execution_count": 3,
   "id": "a4aa022f",
   "metadata": {},
   "outputs": [],
   "source": [
    "# Function for random Lorem Ipsum text generation\n",
    "def random_message():\n",
    "    response = requests.get(\"http://loripsum.net/api/\" + str(varX) + \"/headers/plaintext\")\n",
    "    if response.status_code == 200:\n",
    "        secret_msg = response.text\n",
    "    else:\n",
    "        # Default secret message, when requests fail\n",
    "        secret_msg = \"Hello There!\"\n",
    "    return secret_msg"
   ]
  },
  {
   "cell_type": "code",
   "execution_count": 4,
   "id": "7e4ee422",
   "metadata": {},
   "outputs": [],
   "source": [
    "def Average(data_list):\n",
    "    return sum(data_list) / len(data_list)"
   ]
  },
  {
   "cell_type": "code",
   "execution_count": 5,
   "id": "f41d6fe0",
   "metadata": {},
   "outputs": [],
   "source": [
    "# Run function 10 times to gather results\n",
    "text_data = []\n",
    "for x in range(0, 10):\n",
    "    lorem_ipsum_text = random_message()\n",
    "    text_data.append(len(lorem_ipsum_text))"
   ]
  },
  {
   "cell_type": "code",
   "execution_count": 6,
   "id": "6945c20f",
   "metadata": {},
   "outputs": [
    {
     "data": {
      "text/plain": [
       "[2115, 2392, 2887, 2687, 3092, 1842, 1920, 2046, 2375, 1650]"
      ]
     },
     "execution_count": 6,
     "metadata": {},
     "output_type": "execute_result"
    }
   ],
   "source": [
    "# Print results\n",
    "text_data"
   ]
  },
  {
   "cell_type": "code",
   "execution_count": 7,
   "id": "bfb28410",
   "metadata": {},
   "outputs": [
    {
     "name": "stdout",
     "output_type": "stream",
     "text": [
      "Average list length: 2301\n"
     ]
    }
   ],
   "source": [
    "# Print average length\n",
    "average_length = Average(text_data)\n",
    "print(\"Average list length:\", round(average_length))"
   ]
  },
  {
   "cell_type": "code",
   "execution_count": 8,
   "id": "dff60466",
   "metadata": {},
   "outputs": [],
   "source": [
    "# Amount of text to obtain from API (used for RGB images)\n",
    "varX = 12"
   ]
  },
  {
   "cell_type": "code",
   "execution_count": 9,
   "id": "89755d7e",
   "metadata": {},
   "outputs": [],
   "source": [
    "# Run function 10 times to gather results\n",
    "text_data = []\n",
    "for x in range(0, 10):\n",
    "    lorem_ipsum_text = random_message()\n",
    "    text_data.append(len(lorem_ipsum_text))"
   ]
  },
  {
   "cell_type": "code",
   "execution_count": 10,
   "id": "18c185cf",
   "metadata": {},
   "outputs": [
    {
     "data": {
      "text/plain": [
       "[5246, 5055, 5085, 5872, 5044, 5029, 5874, 5583, 4822, 5520]"
      ]
     },
     "execution_count": 10,
     "metadata": {},
     "output_type": "execute_result"
    }
   ],
   "source": [
    "# Print results\n",
    "text_data"
   ]
  },
  {
   "cell_type": "code",
   "execution_count": 11,
   "id": "98578bcb",
   "metadata": {},
   "outputs": [
    {
     "name": "stdout",
     "output_type": "stream",
     "text": [
      "Average list length: 5313\n"
     ]
    }
   ],
   "source": [
    "# Print average length\n",
    "average_length = Average(text_data)\n",
    "print(\"Average list length:\", round(average_length))"
   ]
  },
  {
   "cell_type": "code",
   "execution_count": 12,
   "id": "8b4ed12c",
   "metadata": {},
   "outputs": [
    {
     "name": "stdout",
     "output_type": "stream",
     "text": [
      "Duo enim genera quae erant, fecit tria.\n",
      "\n",
      "Lorem ipsum dolor sit amet, consectetur adipiscing elit. Sed ad bona praeterita redeamus. Quod ea non occurrentia fingunt, vincunt Aristonem; Etenim si delectamur, cum scribimus, quis est tam invidus, qui ab eo nos abducat? Utrum igitur tibi litteram videor an totas paginas commovere? Duo Reges: constructio interrete. Vide, ne etiam menses! nisi forte eum dicis, qui, simul atque arripuit, interficit. Quid est enim aliud esse versutum? Aliud igitur esse censet gaudere, aliud non dolere. \n",
      "\n",
      "Profectus in exilium Tubulus statim nec respondere ausus; Non est igitur voluptas bonum. Non igitur de improbo, sed de callido improbo quaerimus, qualis Q. Cur igitur easdem res, inquam, Peripateticis dicentibus verbum nullum est, quod non intellegatur? Quonam, inquit, modo? Quid de Platone aut de Democrito loquar? \n",
      "\n",
      "Commoda autem et incommoda in eo genere sunt, quae praeposita et reiecta diximus; Animum autem reliquis rebus ita perfecit, ut corpus; Restinguet citius, si ardentem acceperit. Sed potestne rerum maior esse dissensio? Consequentia exquirere, quoad sit id, quod volumus, effectum. Alterum significari idem, ut si diceretur, officia media omnia aut pleraque servantem vivere. Vide, quantum, inquam, fallare, Torquate. Videmus igitur ut conquiescere ne infantes quidem possint. Quid enim de amicitia statueris utilitatis causa expetenda vides. Amicitiae vero locus ubi esse potest aut quis amicus esse cuiquam, quem non ipsum amet propter ipsum? \n",
      "\n",
      "Quid affers, cur Thorius, cur Caius Postumius, cur omnium horum magister, Orata, non iucundissime vixerit? Quae diligentissime contra Aristonem dicuntur a Chryippo. Videmusne ut pueri ne verberibus quidem a contemplandis rebus perquirendisque deterreantur? Ego vero volo in virtute vim esse quam maximam; Aliter enim explicari, quod quaeritur, non potest. At modo dixeras nihil in istis rebus esse, quod interesset. \n",
      "\n",
      "Idem iste, inquam, de voluptate quid sentit? Idemne potest esse dies saepius, qui semel fuit? Quae qui non vident, nihil umquam magnum ac cognitione dignum amaverunt. Terram, mihi crede, ea lanx et maria deprimet. Utrum igitur percurri omnem Epicuri disciplinam placet an de una voluptate quaeri, de qua omne certamen est? Scripta sane et multa et polita, sed nescio quo pacto auctoritatem oratio non habet. \n",
      "\n",
      "Quis hoc dicit? Nam memini etiam quae nolo, oblivisci non possum quae volo. Hinc ceteri particulas arripere conati suam quisque videro voluit afferre sententiam. Et certamen honestum et disputatio splendida! omnis est enim de virtutis dignitate contentio. Equidem soleo etiam quod uno Graeci, si aliter non possum, idem pluribus verbis exponere. \n",
      "\n",
      "Sed ego in hoc resisto; Habes, inquam, Cato, formam eorum, de quibus loquor, philosophorum. Contineo me ab exemplis. Rhetorice igitur, inquam, nos mavis quam dialectice disputare? Tibi hoc incredibile, quod beatissimum. Nam Metrodorum non puto ipsum professum, sed, cum appellaretur ab Epicuro, repudiare tantum beneficium noluisse; Vitiosum est enim in dividendo partem in genere numerare. \n",
      "\n",
      "Tamen a proposito, inquam, aberramus. Haec non erant eius, qui innumerabilis mundos infinitasque regiones, quarum nulla esset ora, nulla extremitas, mente peragravisset. Itaque his sapiens semper vacabit. Quamquam ab iis philosophiam et omnes ingenuas disciplinas habemus; Quamquam tu hanc copiosiorem etiam soles dicere. Aperiendum est igitur, quid sit voluptas; Illa sunt similia: hebes acies est cuipiam oculorum, corpore alius senescit; Si quidem, inquit, tollerem, sed relinquo. Inquit, respondet: Quia, nisi quod honestum est, nullum est aliud bonum! Non quaero iam verumne sit; Honesta oratio, Socratica, Platonis etiam. \n",
      "\n",
      "His singulis copiose responderi solet, sed quae perspicua sunt longa esse non debent. Huius, Lyco, oratione locuples, rebus ipsis ielunior. Est, ut dicis, inquam. At cum de plurimis eadem dicit, tum certe de maximis. Haeret in salebra. Si enim sapiens aliquis miser esse possit, ne ego istam gloriosam memorabilemque virtutem non magno aestimandam putem. Ac ne plura complectar-sunt enim innumerabilia-, bene laudata virtus voluptatis aditus intercludat necesse est. Sed quanta sit alias, nunc tantum possitne esse tanta. \n",
      "\n",
      "Haec para/doca illi, nos admirabilia dicamus. Ita ne hoc quidem modo paria peccata sunt. Quorum sine causa fieri nihil putandum est. Inde sermone vario sex illa a Dipylo stadia confecimus. Idem fecisset Epicurus, si sententiam hanc, quae nunc Hieronymi est, coniunxisset cum Aristippi vetere sententia. Sed quanta sit alias, nunc tantum possitne esse tanta. \n",
      "\n",
      "Cur deinde Metrodori liberos commendas?\n",
      "\n",
      "Nondum autem explanatum satis, erat, quid maxime natura vellet. Torquatus, is qui consul cum Cn. Te autem hortamur omnes, currentem quidem, ut spero, ut eos, quos novisse vis, imitari etiam velis. Primum in nostrane potestate est, quid meminerimus? Eaedem enim utilitates poterunt eas labefactare atque pervertere. At ille non pertimuit saneque fidenter: Istis quidem ipsis verbis, inquit; Nos quidem Virtutes sic natae sumus, ut tibi serviremus, aliud negotii nihil habemus. Expressa vero in iis aetatibus, quae iam confirmatae sunt. Suo genere perveniant ad extremum; Quae sequuntur igitur? \n",
      "\n",
      "Quid autem habent admirationis, cum prope accesseris? Sic enim censent, oportunitatis esse beate vivere. Sin autem eos non probabat, quid attinuit cum iis, quibuscum re concinebat, verbis discrepare? Que Manilium, ab iisque M. Prioris generis est docilitas, memoria; Sed quot homines, tot sententiae; \n",
      "\n",
      "\n"
     ]
    }
   ],
   "source": [
    "# Display last Lorem Ipsum text obtained, for testing purposes\n",
    "print(lorem_ipsum_text)"
   ]
  }
 ],
 "metadata": {
  "kernelspec": {
   "display_name": "Python 3",
   "language": "python",
   "name": "python3"
  },
  "language_info": {
   "codemirror_mode": {
    "name": "ipython",
    "version": 3
   },
   "file_extension": ".py",
   "mimetype": "text/x-python",
   "name": "python",
   "nbconvert_exporter": "python",
   "pygments_lexer": "ipython3",
   "version": "3.8.8"
  }
 },
 "nbformat": 4,
 "nbformat_minor": 5
}
