{
 "cells": [
  {
   "cell_type": "code",
   "execution_count": 36,
   "id": "07267d69",
   "metadata": {},
   "outputs": [],
   "source": [
    "import os \n",
    "import cv2\n",
    "import numpy as np\n",
    "import matplotlib.pyplot as plt\n",
    "%matplotlib inline"
   ]
  },
  {
   "cell_type": "code",
   "execution_count": 42,
   "id": "d2567b66",
   "metadata": {},
   "outputs": [],
   "source": [
    "# Cover image location\n",
    "cover_dir = \"C:/Users/PC/Masters Files/SteganographyDetection/Datasets/Dataset Cover Images\""
   ]
  },
  {
   "cell_type": "code",
   "execution_count": 43,
   "id": "d39953c5",
   "metadata": {},
   "outputs": [],
   "source": [
    "training_data = []\n",
    "for i, filename in enumerate(os.listdir(cover_dir)):\n",
    "    cover_image = cv2.imread(cover_dir + \"/\" + filename)\n",
    "    training_data.append([cover_image])"
   ]
  },
  {
   "cell_type": "code",
   "execution_count": 44,
   "id": "7038d883",
   "metadata": {
    "scrolled": true
   },
   "outputs": [
    {
     "data": {
      "text/plain": [
       "60"
      ]
     },
     "execution_count": 44,
     "metadata": {},
     "output_type": "execute_result"
    }
   ],
   "source": [
    "len(training_data)"
   ]
  },
  {
   "cell_type": "code",
   "execution_count": 46,
   "id": "5f5a6359",
   "metadata": {},
   "outputs": [],
   "source": [
    "# Save as file\n",
    "np.save(os.path.join(cover_dir,'cover_images'),np.array(training_data))"
   ]
  },
  {
   "cell_type": "code",
   "execution_count": 47,
   "id": "01d224b4",
   "metadata": {},
   "outputs": [],
   "source": [
    "saved = np.load(os.path.join(cover_dir,'cover_images.npy'))"
   ]
  },
  {
   "cell_type": "code",
   "execution_count": 50,
   "id": "b68664b6",
   "metadata": {},
   "outputs": [
    {
     "ename": "ValueError",
     "evalue": "cannot reshape array of size 337500 into shape (400,300,3)",
     "output_type": "error",
     "traceback": [
      "\u001b[1;31m---------------------------------------------------------------------------\u001b[0m",
      "\u001b[1;31mValueError\u001b[0m                                Traceback (most recent call last)",
      "\u001b[1;32m<ipython-input-50-65f06f68cd9f>\u001b[0m in \u001b[0;36m<module>\u001b[1;34m\u001b[0m\n\u001b[1;32m----> 1\u001b[1;33m \u001b[0mplt\u001b[0m\u001b[1;33m.\u001b[0m\u001b[0mimshow\u001b[0m\u001b[1;33m(\u001b[0m\u001b[0msaved\u001b[0m\u001b[1;33m[\u001b[0m\u001b[1;36m0\u001b[0m\u001b[1;33m]\u001b[0m\u001b[1;33m.\u001b[0m\u001b[0mreshape\u001b[0m\u001b[1;33m(\u001b[0m\u001b[1;36m400\u001b[0m\u001b[1;33m,\u001b[0m\u001b[1;36m300\u001b[0m\u001b[1;33m,\u001b[0m\u001b[1;36m3\u001b[0m\u001b[1;33m)\u001b[0m\u001b[1;33m)\u001b[0m\u001b[1;33m\u001b[0m\u001b[1;33m\u001b[0m\u001b[0m\n\u001b[0m\u001b[0;32m      2\u001b[0m \u001b[0mplt\u001b[0m\u001b[1;33m.\u001b[0m\u001b[0mimshow\u001b[0m\u001b[1;33m(\u001b[0m\u001b[0mnp\u001b[0m\u001b[1;33m.\u001b[0m\u001b[0marray\u001b[0m\u001b[1;33m(\u001b[0m\u001b[0mtraining_data\u001b[0m\u001b[1;33m[\u001b[0m\u001b[1;36m0\u001b[0m\u001b[1;33m]\u001b[0m\u001b[1;33m)\u001b[0m\u001b[1;33m.\u001b[0m\u001b[0mreshape\u001b[0m\u001b[1;33m(\u001b[0m\u001b[1;36m80\u001b[0m\u001b[1;33m,\u001b[0m\u001b[1;36m80\u001b[0m\u001b[1;33m,\u001b[0m\u001b[1;36m3\u001b[0m\u001b[1;33m)\u001b[0m\u001b[1;33m)\u001b[0m\u001b[1;33m\u001b[0m\u001b[1;33m\u001b[0m\u001b[0m\n",
      "\u001b[1;31mValueError\u001b[0m: cannot reshape array of size 337500 into shape (400,300,3)"
     ]
    }
   ],
   "source": [
    "plt.imshow(saved[0].reshape(400,300,3))\n",
    "plt.imshow(np.array(training_data[0]).reshape(80,80,3))"
   ]
  },
  {
   "cell_type": "code",
   "execution_count": null,
   "id": "ee083820",
   "metadata": {},
   "outputs": [],
   "source": []
  },
  {
   "cell_type": "code",
   "execution_count": null,
   "id": "eb1411b1",
   "metadata": {},
   "outputs": [],
   "source": []
  }
 ],
 "metadata": {
  "kernelspec": {
   "display_name": "Python 3",
   "language": "python",
   "name": "python3"
  },
  "language_info": {
   "codemirror_mode": {
    "name": "ipython",
    "version": 3
   },
   "file_extension": ".py",
   "mimetype": "text/x-python",
   "name": "python",
   "nbconvert_exporter": "python",
   "pygments_lexer": "ipython3",
   "version": "3.8.8"
  }
 },
 "nbformat": 4,
 "nbformat_minor": 5
}
