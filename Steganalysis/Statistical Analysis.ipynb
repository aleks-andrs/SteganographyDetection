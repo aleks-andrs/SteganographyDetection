{
 "cells": [
  {
   "cell_type": "code",
   "execution_count": 1,
   "id": "e275eb78",
   "metadata": {},
   "outputs": [],
   "source": [
    "import os \n",
    "import cv2\n",
    "import numpy as np\n",
    "from skimage import io\n",
    "import matplotlib.pyplot as plt\n",
    "%matplotlib inline"
   ]
  },
  {
   "cell_type": "code",
   "execution_count": 2,
   "id": "bb4b41d2",
   "metadata": {},
   "outputs": [],
   "source": [
    "# Cover image location\n",
    "cover_dir = \"C:/Users/PC/Masters Files/SteganographyDetection/Datasets/Dataset Cover Images\"\n",
    "# Greyscale cover image location\n",
    "gr_cover_dir = \"C:/Users/PC/Masters Files/SteganographyDetection/Datasets/Dataset Cover Images Greyscale\"\n",
    "# LSB RGB\n",
    "lsb_dir = \"C:/Users/PC/Masters Files/SteganographyDetection/Datasets/Dataset LSB\"\n",
    "# LSB Greyscale\n",
    "lsbg_dir = \"C:/Users/PC/Masters Files/SteganographyDetection/Datasets/Dataset LSB Greyscale\"\n",
    "# DCT RGB\n",
    "dct_dir = \"C:/Users/PC/Masters Files/SteganographyDetection/Datasets/Dataset DCT\""
   ]
  },
  {
   "cell_type": "code",
   "execution_count": 3,
   "id": "60a18245",
   "metadata": {},
   "outputs": [
    {
     "name": "stdout",
     "output_type": "stream",
     "text": [
      "60\n"
     ]
    }
   ],
   "source": [
    "# Combine cover image data into a single array\n",
    "cover_data = []\n",
    "for i, filename in enumerate(os.listdir(cover_dir)):\n",
    "    cover_image = cv2.imread(cover_dir + \"/\" + filename, cv2.IMREAD_UNCHANGED)\n",
    "    cover_data.append(cover_image)\n",
    "# The length of the array should be 60\n",
    "print(len(cover_data))"
   ]
  },
  {
   "cell_type": "code",
   "execution_count": 4,
   "id": "3da06b36",
   "metadata": {},
   "outputs": [
    {
     "name": "stdout",
     "output_type": "stream",
     "text": [
      "60\n"
     ]
    }
   ],
   "source": [
    "# Combine cover image data into a single array\n",
    "gr_cover_data = []\n",
    "for i, filename in enumerate(os.listdir(gr_cover_dir)):\n",
    "    gr_cover_image = cv2.imread(gr_cover_dir + \"/\" + filename, cv2.IMREAD_UNCHANGED)\n",
    "    gr_cover_data.append(gr_cover_image)\n",
    "# The length of the array should be 60\n",
    "print(len(gr_cover_data))"
   ]
  },
  {
   "cell_type": "code",
   "execution_count": 5,
   "id": "76617e70",
   "metadata": {},
   "outputs": [
    {
     "name": "stdout",
     "output_type": "stream",
     "text": [
      "60\n"
     ]
    }
   ],
   "source": [
    "# Combine LSBG stego image data into a single array\n",
    "lsbg_stego_data = []\n",
    "for i, filename in enumerate(os.listdir(lsbg_dir)):\n",
    "    lsbg_stego_image = cv2.imread(lsbg_dir + \"/\" + filename, cv2.IMREAD_UNCHANGED)\n",
    "    lsbg_stego_data.append([lsbg_stego_image])\n",
    "# The length of the array should be 60\n",
    "print(len(lsbg_stego_data))"
   ]
  },
  {
   "cell_type": "code",
   "execution_count": 6,
   "id": "7224c29d",
   "metadata": {},
   "outputs": [
    {
     "name": "stdout",
     "output_type": "stream",
     "text": [
      "60\n"
     ]
    }
   ],
   "source": [
    "# Combine LSB stego image data into a single array\n",
    "lsb_stego_data = []\n",
    "for i, filename in enumerate(os.listdir(lsb_dir)):\n",
    "    lsb_stego_image = cv2.imread(lsb_dir + \"/\" + filename, cv2.IMREAD_UNCHANGED)\n",
    "    lsb_stego_data.append(lsb_stego_image)\n",
    "# The length of the array should be 60\n",
    "print(len(lsb_stego_data))"
   ]
  },
  {
   "cell_type": "code",
   "execution_count": 7,
   "id": "63d604d5",
   "metadata": {
    "scrolled": true
   },
   "outputs": [
    {
     "name": "stdout",
     "output_type": "stream",
     "text": [
      "60\n"
     ]
    }
   ],
   "source": [
    "# Combine DCT stego image data into a single array\n",
    "dct_stego_data = []\n",
    "for i, filename in enumerate(os.listdir(dct_dir)):\n",
    "    dct_stego_image = cv2.imread(dct_dir + \"/\" + filename, cv2.IMREAD_UNCHANGED)\n",
    "    dct_stego_data.append(dct_stego_image)\n",
    "# The length of the array should be 60\n",
    "print(len(dct_stego_data))"
   ]
  },
  {
   "cell_type": "code",
   "execution_count": 8,
   "id": "81ac333a",
   "metadata": {},
   "outputs": [],
   "source": [
    "# Change data types\n",
    "cover_data = np.array(cover_data)\n",
    "gr_cover_data = np.array(gr_cover_data)\n",
    "lsb_stego_data = np.array(lsb_stego_data)\n",
    "lsbg_stego_data = np.array(lsbg_stego_data)\n",
    "dct_stego_data = np.array(dct_stego_data)"
   ]
  },
  {
   "cell_type": "code",
   "execution_count": 9,
   "id": "d73173aa",
   "metadata": {},
   "outputs": [
    {
     "data": {
      "text/plain": [
       "array([[[ 38,  30,  30],\n",
       "        [ 38,  33,  30],\n",
       "        [ 28,  37,  41],\n",
       "        ...,\n",
       "        [184, 200, 199],\n",
       "        [194, 205, 203],\n",
       "        [161, 170, 167]],\n",
       "\n",
       "       [[114, 109, 111],\n",
       "        [ 96,  94,  93],\n",
       "        [ 70,  81,  85],\n",
       "        ...,\n",
       "        [187, 201, 200],\n",
       "        [195, 206, 204],\n",
       "        [190, 199, 196]],\n",
       "\n",
       "       [[215, 214, 216],\n",
       "        [202, 204, 204],\n",
       "        [176, 189, 197],\n",
       "        ...,\n",
       "        [194, 206, 206],\n",
       "        [188, 199, 197],\n",
       "        [197, 206, 203]],\n",
       "\n",
       "       ...,\n",
       "\n",
       "       [[104, 103, 112],\n",
       "        [100, 103, 108],\n",
       "        [100,  99, 108],\n",
       "        ...,\n",
       "        [120, 118, 118],\n",
       "        [128, 126, 126],\n",
       "        [122, 120, 120]],\n",
       "\n",
       "       [[ 87,  85,  91],\n",
       "        [ 86,  87,  91],\n",
       "        [ 94,  92,  98],\n",
       "        ...,\n",
       "        [120, 115, 116],\n",
       "        [122, 117, 118],\n",
       "        [122, 117, 118]],\n",
       "\n",
       "       [[104, 103, 107],\n",
       "        [102, 101, 105],\n",
       "        [102, 101, 105],\n",
       "        ...,\n",
       "        [119, 114, 115],\n",
       "        [125, 120, 121],\n",
       "        [125, 120, 121]]], dtype=uint8)"
      ]
     },
     "execution_count": 9,
     "metadata": {},
     "output_type": "execute_result"
    }
   ],
   "source": [
    "# Display cover image structure\n",
    "cover_data[0]"
   ]
  },
  {
   "cell_type": "code",
   "execution_count": 10,
   "id": "e1e76a57",
   "metadata": {},
   "outputs": [
    {
     "data": {
      "text/plain": [
       "array([[[ 36,  31,  29],\n",
       "        [ 36,  32,  31],\n",
       "        [ 28,  38,  40],\n",
       "        ...,\n",
       "        [185, 201, 198],\n",
       "        [193, 204, 200],\n",
       "        [162, 168, 164]],\n",
       "\n",
       "       [[113, 111, 108],\n",
       "        [ 99,  93,  94],\n",
       "        [ 69,  81,  85],\n",
       "        ...,\n",
       "        [185, 200, 202],\n",
       "        [192, 204, 205],\n",
       "        [190, 196, 197]],\n",
       "\n",
       "       [[213, 214, 219],\n",
       "        [202, 205, 206],\n",
       "        [179, 190, 197],\n",
       "        ...,\n",
       "        [195, 205, 206],\n",
       "        [189, 197, 197],\n",
       "        [198, 207, 201]],\n",
       "\n",
       "       ...,\n",
       "\n",
       "       [[104, 103, 112],\n",
       "        [100, 103, 108],\n",
       "        [100,  99, 108],\n",
       "        ...,\n",
       "        [120, 118, 118],\n",
       "        [128, 126, 126],\n",
       "        [122, 120, 120]],\n",
       "\n",
       "       [[ 87,  85,  91],\n",
       "        [ 86,  87,  91],\n",
       "        [ 94,  92,  98],\n",
       "        ...,\n",
       "        [120, 115, 116],\n",
       "        [122, 117, 118],\n",
       "        [122, 117, 118]],\n",
       "\n",
       "       [[104, 103, 107],\n",
       "        [102, 101, 105],\n",
       "        [102, 101, 105],\n",
       "        ...,\n",
       "        [119, 114, 115],\n",
       "        [125, 120, 121],\n",
       "        [125, 120, 121]]], dtype=uint8)"
      ]
     },
     "execution_count": 10,
     "metadata": {},
     "output_type": "execute_result"
    }
   ],
   "source": [
    "# Display LSB image structure\n",
    "lsb_stego_data[0]"
   ]
  },
  {
   "cell_type": "code",
   "execution_count": 11,
   "id": "ceaa3088",
   "metadata": {},
   "outputs": [
    {
     "data": {
      "text/plain": [
       "array([[[144,  30,  30],\n",
       "        [139,  33,  30],\n",
       "        [ 68,  37,  41],\n",
       "        ...,\n",
       "        [ 88, 200, 199],\n",
       "        [128, 205, 203],\n",
       "        [128, 170, 167]],\n",
       "\n",
       "       [[ 64, 109, 111],\n",
       "        [216,  94,  93],\n",
       "        [240,  81,  85],\n",
       "        ...,\n",
       "        [128, 201, 200],\n",
       "        [128, 206, 204],\n",
       "        [128, 199, 196]],\n",
       "\n",
       "       [[202, 214, 216],\n",
       "        [111, 204, 204],\n",
       "        [112, 189, 197],\n",
       "        ...,\n",
       "        [128, 206, 206],\n",
       "        [128, 199, 197],\n",
       "        [128, 206, 203]],\n",
       "\n",
       "       ...,\n",
       "\n",
       "       [[128, 103, 112],\n",
       "        [ 93, 103, 108],\n",
       "        [128,  99, 108],\n",
       "        ...,\n",
       "        [128, 118, 118],\n",
       "        [128, 126, 126],\n",
       "        [128, 120, 120]],\n",
       "\n",
       "       [[128,  85,  91],\n",
       "        [128,  87,  91],\n",
       "        [128,  92,  98],\n",
       "        ...,\n",
       "        [128, 115, 116],\n",
       "        [128, 117, 118],\n",
       "        [128, 117, 118]],\n",
       "\n",
       "       [[128, 103, 107],\n",
       "        [128, 101, 105],\n",
       "        [128, 101, 105],\n",
       "        ...,\n",
       "        [128, 114, 115],\n",
       "        [128, 120, 121],\n",
       "        [128, 120, 121]]], dtype=uint8)"
      ]
     },
     "execution_count": 11,
     "metadata": {},
     "output_type": "execute_result"
    }
   ],
   "source": [
    "# Display DCT image structure\n",
    "dct_stego_data[0]"
   ]
  },
  {
   "cell_type": "code",
   "execution_count": 12,
   "id": "0b16ff86",
   "metadata": {},
   "outputs": [
    {
     "data": {
      "text/plain": [
       "array([[ 30,  32,  37, ..., 197, 203, 168],\n",
       "       [110,  93,  80, ..., 199, 204, 197],\n",
       "       [214, 203, 189, ..., 204, 197, 204],\n",
       "       ...,\n",
       "       [105, 104, 101, ..., 118, 126, 120],\n",
       "       [ 87,  88,  94, ..., 115, 117, 117],\n",
       "       [104, 102, 102, ..., 114, 120, 120]], dtype=uint8)"
      ]
     },
     "execution_count": 12,
     "metadata": {},
     "output_type": "execute_result"
    }
   ],
   "source": [
    "# Display greyscale image structure\n",
    "gr_cover_data[0]"
   ]
  },
  {
   "cell_type": "code",
   "execution_count": 13,
   "id": "4b2eff98",
   "metadata": {},
   "outputs": [
    {
     "data": {
      "text/plain": [
       "array([[[ 28,  35,  32, ..., 198, 200, 167],\n",
       "        [109,  94,  79, ..., 199, 201, 197],\n",
       "        [213, 202, 186, ..., 203, 197, 202],\n",
       "        ...,\n",
       "        [103, 102,  99, ..., 118, 126, 120],\n",
       "        [ 85,  87,  92, ..., 116, 118, 118],\n",
       "        [103, 101, 101, ..., 115, 121, 121]]], dtype=uint8)"
      ]
     },
     "execution_count": 13,
     "metadata": {},
     "output_type": "execute_result"
    }
   ],
   "source": [
    "# Display LSBG image structure\n",
    "lsbg_stego_data[0]"
   ]
  },
  {
   "cell_type": "code",
   "execution_count": 14,
   "id": "cb1626c9",
   "metadata": {},
   "outputs": [
    {
     "data": {
      "image/png": "[encoded data removed]",
      "text/plain": [
       "<Figure size 864x720 with 15 Axes>"
      ]
     },
     "metadata": {
      "needs_background": "light"
     },
     "output_type": "display_data"
    }
   ],
   "source": [
    "# Display pixel value distribution for RGB images\n",
    "fig, axs = plt.subplots(5,3,tight_layout=True,figsize=(12,10))\n",
    "axs[0][0].hist(cover_data[0].ravel(), bins=256)\n",
    "axs[0][0].title.set_text(\"Cover\")\n",
    "axs[0][1].hist(lsb_stego_data[0].ravel(), bins=256)\n",
    "axs[0][1].title.set_text(\"LSB\")\n",
    "axs[0][2].hist(dct_stego_data[0].ravel(), bins=256)\n",
    "axs[0][2].title.set_text(\"DCT\")\n",
    "axs[1][0].hist(cover_data[1].ravel(), bins=256)\n",
    "axs[1][1].hist(lsb_stego_data[1].ravel(), bins=256)\n",
    "axs[1][2].hist(dct_stego_data[1].ravel(), bins=256)\n",
    "axs[2][0].hist(cover_data[2].ravel(), bins=256)\n",
    "axs[2][1].hist(lsb_stego_data[2].ravel(), bins=256)\n",
    "axs[2][2].hist(dct_stego_data[2].ravel(), bins=256)\n",
    "axs[3][0].hist(cover_data[3].ravel(), bins=256)\n",
    "axs[3][1].hist(lsb_stego_data[3].ravel(), bins=256)\n",
    "axs[3][2].hist(dct_stego_data[3].ravel(), bins=256)\n",
    "axs[4][0].hist(cover_data[4].ravel(), bins=256)\n",
    "axs[4][1].hist(lsb_stego_data[4].ravel(), bins=256)\n",
    "axs[4][2].hist(dct_stego_data[4].ravel(), bins=256)\n",
    "plt.show()"
   ]
  },
  {
   "cell_type": "code",
   "execution_count": 15,
   "id": "13dc1b63",
   "metadata": {},
   "outputs": [
    {
     "data": {
      "image/png": "[encoded data removed]",
      "text/plain": [
       "<Figure size 720x720 with 10 Axes>"
      ]
     },
     "metadata": {
      "needs_background": "light"
     },
     "output_type": "display_data"
    }
   ],
   "source": [
    "# Display pixel value distribution for greyscale images\n",
    "fig, axs = plt.subplots(5,2,tight_layout=True,figsize=(10,10))\n",
    "axs[0][0].hist(gr_cover_data[0].ravel(), bins=256)\n",
    "axs[0][0].title.set_text(\"Cover Greyscale\")\n",
    "axs[0][1].hist(lsbg_stego_data[0].ravel(), bins=256)\n",
    "axs[0][1].title.set_text(\"LSB Greyscale\")\n",
    "axs[1][0].hist(gr_cover_data[1].ravel(), bins=256)\n",
    "axs[1][1].hist(lsbg_stego_data[1].ravel(), bins=256)\n",
    "axs[2][0].hist(gr_cover_data[2].ravel(), bins=256)\n",
    "axs[2][1].hist(lsbg_stego_data[2].ravel(), bins=256)\n",
    "axs[3][0].hist(gr_cover_data[3].ravel(), bins=256)\n",
    "axs[3][1].hist(lsbg_stego_data[3].ravel(), bins=256)\n",
    "axs[4][0].hist(gr_cover_data[4].ravel(), bins=256)\n",
    "axs[4][1].hist(lsbg_stego_data[4].ravel(), bins=256)\n",
    "plt.show()"
   ]
  },
  {
   "cell_type": "code",
   "execution_count": 16,
   "id": "de67d810",
   "metadata": {},
   "outputs": [],
   "source": [
    "def meanSquareError(cover, stego):\n",
    "        mse = np.sum((cover.astype('float') - stego.astype('float')) ** 2)\n",
    "        mse /= float(cover.shape[0] * cover.shape[1]);\n",
    "        return mse"
   ]
  },
  {
   "cell_type": "code",
   "execution_count": 17,
   "id": "0ffd94b3",
   "metadata": {},
   "outputs": [
    {
     "name": "stdout",
     "output_type": "stream",
     "text": [
      "Average MSE: 0.7833455403645834\n",
      "Highest MSE: 1.0872344970703125\n"
     ]
    }
   ],
   "source": [
    "# Compare mean square error for LSB\n",
    "mseValues = []\n",
    "for i in range (60):\n",
    "    mse = meanSquareError(cover_data[i], lsb_stego_data[i])\n",
    "    mseValues.append(mse)\n",
    "# Show average MSE\n",
    "print(\"Average MSE: \" + str(sum(mseValues)/len(mseValues)))\n",
    "# Show highest MSE\n",
    "print(\"Highest MSE: \" + str(max(mseValues)))"
   ]
  },
  {
   "cell_type": "code",
   "execution_count": 18,
   "id": "648474cd",
   "metadata": {},
   "outputs": [
    {
     "name": "stdout",
     "output_type": "stream",
     "text": [
      "Average MSE: 31.383518727620444\n",
      "Highest MSE: 185.2852020263672\n"
     ]
    }
   ],
   "source": [
    "# Compare mean square error for LSBG\n",
    "mseValues = []\n",
    "for i in range (60):\n",
    "    mse = meanSquareError(gr_cover_data[i], lsbg_stego_data[i])\n",
    "    mseValues.append(mse)\n",
    "# Show average MSE\n",
    "print(\"Average MSE: \" + str(sum(mseValues)/len(mseValues)))\n",
    "# Show highest MSE\n",
    "print(\"Highest MSE: \" + str(max(mseValues)))"
   ]
  },
  {
   "cell_type": "code",
   "execution_count": 19,
   "id": "d9db8502",
   "metadata": {},
   "outputs": [
    {
     "name": "stdout",
     "output_type": "stream",
     "text": [
      "Average MSE: 7358.636968739827\n",
      "Highest MSE: 15142.839050292969\n"
     ]
    }
   ],
   "source": [
    "# Compare mean square error for DCT\n",
    "mseValues = []\n",
    "for i in range (60):\n",
    "    mse = meanSquareError(cover_data[i], dct_stego_data[i])\n",
    "    mseValues.append(mse)\n",
    "# Show average MSE\n",
    "print(\"Average MSE: \" + str(sum(mseValues)/len(mseValues)))\n",
    "# Show highest MSE\n",
    "print(\"Highest MSE: \" + str(max(mseValues)))"
   ]
  }
 ],
 "metadata": {
  "kernelspec": {
   "display_name": "Python 3",
   "language": "python",
   "name": "python3"
  },
  "language_info": {
   "codemirror_mode": {
    "name": "ipython",
    "version": 3
   },
   "file_extension": ".py",
   "mimetype": "text/x-python",
   "name": "python",
   "nbconvert_exporter": "python",
   "pygments_lexer": "ipython3",
   "version": "3.8.8"
  }
 },
 "nbformat": 4,
 "nbformat_minor": 5
}
